{
 "cells": [
  {
   "cell_type": "markdown",
   "id": "6a698ca5-0387-4021-a512-d7fe318e3f64",
   "metadata": {},
   "source": [
    "# delete and insert functions in pandas"
   ]
  },
  {
   "cell_type": "code",
   "execution_count": 13,
   "id": "91975c11-4abc-4751-ba74-502d37447895",
   "metadata": {},
   "outputs": [
    {
     "name": "stdout",
     "output_type": "stream",
     "text": [
      "   A  B\n",
      "0  1  5\n",
      "1  2  6\n",
      "2  3  7\n",
      "3  4  8\n",
      "   A  new_columns_name  new_columns_name1  B  python_12\n",
      "0  1                10                  1  5        1.0\n",
      "1  2                10                  2  6        2.0\n",
      "2  3                10                  3  7        3.0\n",
      "3  4                10                  4  8        NaN\n"
     ]
    }
   ],
   "source": [
    "# insert\n",
    "\n",
    "import pandas as pd\n",
    "var = pd.DataFrame({ \"A\" : [1,2,3,4], \"B\" : [5,6,7,8] })\n",
    "print(var)\n",
    "\n",
    "var.insert(1,\"new_columns_name\",10)\n",
    "var.insert(2,\"new_columns_name1\",var[\"A\"])             # copying value of a columns only and make new_columns_name1 and storing the data into it and at index 2\n",
    "var[\"python_12\"] = var[\"A\"][:3]                        # list slicing \n",
    "print(var)"
   ]
  },
  {
   "cell_type": "code",
   "execution_count": 16,
   "id": "79d9a810-740f-4be6-a6d8-ab2fe9fbfc60",
   "metadata": {},
   "outputs": [
    {
     "name": "stdout",
     "output_type": "stream",
     "text": [
      "   A  B   C\n",
      "0  1  9  11\n",
      "1  2  8  12\n",
      "2  3  7  13\n",
      "3  4  6  14\n",
      "4  5  5  15\n",
      "\n",
      "   A   C\n",
      "0  1  11\n",
      "1  2  12\n",
      "2  3  13\n",
      "3  4  14\n",
      "4  5  15\n",
      "\n",
      "0    9\n",
      "1    8\n",
      "2    7\n",
      "3    6\n",
      "4    5\n",
      "Name: B, dtype: int64\n",
      "    C\n",
      "0  11\n",
      "1  12\n",
      "2  13\n",
      "3  14\n",
      "4  15\n"
     ]
    }
   ],
   "source": [
    "#delete function by pop or del\n",
    "\n",
    "import pandas as pd\n",
    "var= pd.DataFrame({\"A\":[1,2,3,4,5], \"B\" : [9,8,7,6,5] , \"C\" : [11,12,13,14,15]})\n",
    "print(var)\n",
    "print()\n",
    "var1=var.pop(\"B\")             # deleting columns B\n",
    "print(var)                    # after deleting column B\n",
    "print()\n",
    "print(var1)                   # printing what is deleted \n",
    "del var[\"A\"]                  # by del syntax - deleting column A\n",
    "print(var)"
   ]
  },
  {
   "cell_type": "code",
   "execution_count": null,
   "id": "cb6a5195-2b30-4488-8e4f-337c650567e7",
   "metadata": {},
   "outputs": [],
   "source": []
  }
 ],
 "metadata": {
  "kernelspec": {
   "display_name": "Python 3 (ipykernel)",
   "language": "python",
   "name": "python3"
  },
  "language_info": {
   "codemirror_mode": {
    "name": "ipython",
    "version": 3
   },
   "file_extension": ".py",
   "mimetype": "text/x-python",
   "name": "python",
   "nbconvert_exporter": "python",
   "pygments_lexer": "ipython3",
   "version": "3.12.1"
  }
 },
 "nbformat": 4,
 "nbformat_minor": 5
}

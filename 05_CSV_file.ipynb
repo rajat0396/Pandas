{
 "cells": [
  {
   "cell_type": "markdown",
   "id": "4cc6f962-afaf-467d-99ba-ef7007ef8d7e",
   "metadata": {},
   "source": [
    "# CSV files "
   ]
  },
  {
   "cell_type": "raw",
   "id": "7fcb9ec9-8062-417f-95f5-1501629b98b8",
   "metadata": {},
   "source": [
    "# write CSV file"
   ]
  },
  {
   "cell_type": "code",
   "execution_count": 7,
   "id": "97866eff-301f-4608-bf29-7f46b44b9cb2",
   "metadata": {},
   "outputs": [
    {
     "name": "stdout",
     "output_type": "stream",
     "text": [
      "   a  b   c\n",
      "0  1  5  10\n",
      "1  2  6  11\n",
      "2  3  7  12\n",
      "3  4  8  13\n",
      "\n"
     ]
    }
   ],
   "source": [
    "# inpout as data frame and creating csv file\n",
    "\n",
    "import pandas as pd\n",
    "dict = { \"a\" : [1,2,3,4] , \"b\" : [5,6,7,8] , \"c\" : [10,11,12,13] }\n",
    "var = pd.DataFrame(dict)\n",
    "print(var)\n",
    "print()\n",
    "var.to_csv(\"new_file1.csv\")            # will create one excel file\n",
    "var.to_csv(\"new_file2.csv\", index = False)       # to remove index \n",
    "var.to_csv(\"new_file3.csv\" , index = False , header = [1,2,3] )    #change the header name\n",
    "var.to_csv(\"new_file4.csv\" , index = False , header = False )"
   ]
  },
  {
   "cell_type": "raw",
   "id": "2ed41cb3-d4d8-4867-89df-aef66e34cbbe",
   "metadata": {},
   "source": [
    "# Read CSV"
   ]
  },
  {
   "cell_type": "code",
   "execution_count": 16,
   "id": "323948c9-5dfd-4fd8-81dc-3661683e149f",
   "metadata": {},
   "outputs": [
    {
     "name": "stdout",
     "output_type": "stream",
     "text": [
      "   a  b   c\n",
      "0  1  5  10\n",
      "1  2  6  11\n",
      "2  3  7  12\n",
      "3  4  8  13\n",
      "\n",
      "   a  b   c\n",
      "0  1  5  10\n",
      "1  2  6  11\n",
      "\n",
      "   b   c\n",
      "0  5  10\n",
      "1  6  11\n",
      "2  7  12\n",
      "3  8  13\n"
     ]
    }
   ],
   "source": [
    "import pandas as pd\n",
    "csv_1 = pd.read_csv(\"C:\\\\Users\\\\arora\\\\OneDrive\\\\Desktop\\\\Jupyter\\\\Pandas\\\\new_file2.csv\")                  # to fetch file \n",
    "print(csv_1)\n",
    "print()\n",
    "csv_2 = pd.read_csv(\"C:\\\\Users\\\\arora\\\\OneDrive\\\\Desktop\\\\Jupyter\\\\Pandas\\\\new_file2.csv\", nrows = 2)        # to fetch rows \n",
    "print(csv_2)\n",
    "print()\n",
    "csv_3 = pd.read_csv(\"C:\\\\Users\\\\arora\\\\OneDrive\\\\Desktop\\\\Jupyter\\\\Pandas\\\\new_file2.csv\", usecols = [\"b\", \"c\"] )  # to fetch columns\n",
    "print(csv_3)"
   ]
  },
  {
   "cell_type": "code",
   "execution_count": 19,
   "id": "1f52f654-f7ad-49f8-b01e-9050b1d03d36",
   "metadata": {},
   "outputs": [
    {
     "name": "stdout",
     "output_type": "stream",
     "text": [
      "   a  b   c\n",
      "0  1  5  10\n",
      "1  2  6  11\n",
      "2  3  7  12\n",
      "3  4  8  13\n",
      "\n",
      "   1  5  10\n",
      "0  3  7  12\n",
      "1  4  8  13\n"
     ]
    }
   ],
   "source": [
    "# skip function i.e if we want to skip any rows \n",
    "import pandas as pd \n",
    "csv = pd.read_csv(\"C:\\\\Users\\\\arora\\\\OneDrive\\\\Desktop\\\\Jupyter\\\\Pandas\\\\new_file2.csv\")\n",
    "print(csv)\n",
    "print()\n",
    "csv_1 = pd.read_csv(\"C:\\\\Users\\\\arora\\\\OneDrive\\\\Desktop\\\\Jupyter\\\\Pandas\\\\new_file2.csv\", skiprows = [0,2])\n",
    "print(csv_1)"
   ]
  },
  {
   "cell_type": "code",
   "execution_count": 21,
   "id": "63f6cf25-c7af-4579-8fe6-dbdca0331802",
   "metadata": {},
   "outputs": [
    {
     "name": "stdout",
     "output_type": "stream",
     "text": [
      "   a  b   c\n",
      "0  1  5  10\n",
      "1  2  6  11\n",
      "2  3  7  12\n",
      "3  4  8  13\n",
      "\n",
      "   b   c\n",
      "a       \n",
      "1  5  10\n",
      "2  6  11\n",
      "3  7  12\n",
      "4  8  13\n"
     ]
    }
   ],
   "source": [
    "import pandas as pd \n",
    "csv = pd.read_csv(\"C:\\\\Users\\\\arora\\\\OneDrive\\\\Desktop\\\\Jupyter\\\\Pandas\\\\new_file2.csv\")\n",
    "print(csv)\n",
    "print()\n",
    "csv_1 = pd.read_csv(\"C:\\\\Users\\\\arora\\\\OneDrive\\\\Desktop\\\\Jupyter\\\\Pandas\\\\new_file2.csv\", index_col = \"a\")\n",
    "print(csv_1)"
   ]
  },
  {
   "cell_type": "code",
   "execution_count": 22,
   "id": "f54165e7-a523-406d-8e8a-a22b24497411",
   "metadata": {},
   "outputs": [
    {
     "name": "stdout",
     "output_type": "stream",
     "text": [
      "   a  b   c\n",
      "0  1  5  10\n",
      "1  2  6  11\n",
      "2  3  7  12\n",
      "3  4  8  13\n",
      "\n",
      "   2  6  11\n",
      "0  3  7  12\n",
      "1  4  8  13\n"
     ]
    }
   ],
   "source": [
    "# want to change header \n",
    "import pandas as pd \n",
    "csv = pd.read_csv(\"C:\\\\Users\\\\arora\\\\OneDrive\\\\Desktop\\\\Jupyter\\\\Pandas\\\\new_file2.csv\")\n",
    "print(csv)\n",
    "print()\n",
    "csv_1 = pd.read_csv(\"C:\\\\Users\\\\arora\\\\OneDrive\\\\Desktop\\\\Jupyter\\\\Pandas\\\\new_file2.csv\", header = 2)\n",
    "print(csv_1)"
   ]
  },
  {
   "cell_type": "code",
   "execution_count": 26,
   "id": "ce3cb35f-f0d1-4d66-92c2-af6864a4fb6f",
   "metadata": {},
   "outputs": [
    {
     "name": "stdout",
     "output_type": "stream",
     "text": [
      "   a  b   c\n",
      "0  1  5  10\n",
      "1  2  6  11\n",
      "2  3  7  12\n",
      "3  4  8  13\n",
      "\n",
      "  cols1 cols2 cols3\n",
      "0     a     b     c\n",
      "1     1     5    10\n",
      "2     2     6    11\n",
      "3     3     7    12\n",
      "4     4     8    13\n",
      "\n",
      "     a  b   c\n",
      "0  1.0  5  10\n",
      "1  2.0  6  11\n",
      "2  3.0  7  12\n",
      "3  4.0  8  13\n"
     ]
    }
   ],
   "source": [
    "# want to assign names of columns\n",
    "import pandas as pd \n",
    "csv = pd.read_csv(\"C:\\\\Users\\\\arora\\\\OneDrive\\\\Desktop\\\\Jupyter\\\\Pandas\\\\new_file2.csv\")\n",
    "print(csv)\n",
    "print()\n",
    "csv_1 = pd.read_csv(\"C:\\\\Users\\\\arora\\\\OneDrive\\\\Desktop\\\\Jupyter\\\\Pandas\\\\new_file2.csv\", names = [\"cols1\" , \"cols2\" , \"cols3\"] )\n",
    "print(csv_1)\n",
    "print()\n",
    "csv_2 = pd.read_csv(\"C:\\\\Users\\\\arora\\\\OneDrive\\\\Desktop\\\\Jupyter\\\\Pandas\\\\new_file2.csv\", dtype = { \"a\" : \"float\" })    # chnage dtupe of columns\n",
    "print(csv_2)"
   ]
  },
  {
   "cell_type": "code",
   "execution_count": 14,
   "id": "554f78aa-a09a-460e-9a3d-1e1daa31411d",
   "metadata": {},
   "outputs": [
    {
     "name": "stdout",
     "output_type": "stream",
     "text": [
      "  security    salary\n",
      "0    Rajat     17273\n",
      "1    rahul      3393\n",
      "2    ankit  3u3uew9u\n",
      "\n",
      "  security  salary\n",
      "0    Rajat   17273\n",
      "\n",
      "  security    salary\n",
      "0    Rajat     17273\n",
      "1    rahul      3393\n",
      "2    ankit  3u3uew9u\n",
      "\n",
      "   Rajat     17273\n",
      "0  rahul      3393\n",
      "1  ankit  3u3uew9u\n",
      "\n",
      "            salary\n",
      "security          \n",
      "Rajat        17273\n",
      "rahul         3393\n",
      "ankit     3u3uew9u\n",
      "\n",
      "   Rajat     17273\n",
      "0  rahul      3393\n",
      "1  ankit  3u3uew9u\n"
     ]
    }
   ],
   "source": [
    "# read file\n",
    "\n",
    "import pandas as pd\n",
    "csv_1 = pd.read_csv(\"C:\\\\Users\\\\arora\\\\OneDrive\\\\Desktop\\\\file.csv\")\n",
    "print(csv_1)\n",
    "print()\n",
    "csv_2 = pd.read_csv(\"C:\\\\Users\\\\arora\\\\OneDrive\\\\Desktop\\\\file.csv\", nrows = 1)   # if we want to get the how many rows printed  i.e to get any particular rows\n",
    "print(csv_2)\n",
    "print()\n",
    "csv_3 = pd.read_csv(\"C:\\\\Users\\\\arora\\\\OneDrive\\\\Desktop\\\\file.csv\", usecols = [0,1])   # to get particlau columns\n",
    "print(csv_3)\n",
    "print()\n",
    "csv_4 = pd.read_csv(\"C:\\\\Users\\\\arora\\\\OneDrive\\\\Desktop\\\\file.csv\", skiprows = [0] )  # to skip rows\n",
    "print(csv_4)\n",
    "print()\n",
    "csv_5 = pd.read_csv(\"C:\\\\Users\\\\arora\\\\OneDrive\\\\Desktop\\\\file.csv\", index_col = \"security\" ) # now security values becoomes the index\n",
    "print(csv_5)\n",
    "print()\n",
    "\n",
    "csv_6 = pd.read_csv(\"C:\\\\Users\\\\arora\\\\OneDrive\\\\Desktop\\\\file.csv\", header = 1 )\n",
    "print(csv_6)\n"
   ]
  },
  {
   "cell_type": "code",
   "execution_count": null,
   "id": "61dabd36-d0df-4a3a-bf13-e6274e3ab3d8",
   "metadata": {},
   "outputs": [],
   "source": []
  }
 ],
 "metadata": {
  "kernelspec": {
   "display_name": "Python 3 (ipykernel)",
   "language": "python",
   "name": "python3"
  },
  "language_info": {
   "codemirror_mode": {
    "name": "ipython",
    "version": 3
   },
   "file_extension": ".py",
   "mimetype": "text/x-python",
   "name": "python",
   "nbconvert_exporter": "python",
   "pygments_lexer": "ipython3",
   "version": "3.12.1"
  }
 },
 "nbformat": 4,
 "nbformat_minor": 5
}

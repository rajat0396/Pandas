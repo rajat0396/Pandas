{
 "cells": [
  {
   "cell_type": "markdown",
   "id": "d7a9ca21-5523-4b23-a737-5ccfecace17a",
   "metadata": {},
   "source": [
    "# airthmetic operations"
   ]
  },
  {
   "cell_type": "code",
   "execution_count": 11,
   "id": "01d1ea6f-0865-4f57-8cf7-ba360c4061c0",
   "metadata": {},
   "outputs": [
    {
     "name": "stdout",
     "output_type": "stream",
     "text": [
      "   A  B\n",
      "0  1  5\n",
      "1  2  6\n",
      "2  3  7\n",
      "3  4  8\n",
      "\n",
      "   A  B   c\n",
      "0  1  5   6\n",
      "1  2  6   8\n",
      "2  3  7  10\n",
      "3  4  8  12\n",
      "   A  B   c  d   i         f  g\n",
      "0  1  5   6 -4   5  0.200000  1\n",
      "1  2  6   8 -4  12  0.333333  2\n",
      "2  3  7  10 -4  21  0.428571  3\n",
      "3  4  8  12 -4  32  0.500000  4\n"
     ]
    }
   ],
   "source": [
    "import pandas as pd\n",
    "var= pd.DataFrame({ \"A\" : [1,2,3,4], \"B\" : [5,6,7,8] })\n",
    "print(var)\n",
    "print()\n",
    "var[\"c\"] = var[\"A\"] + var[\"B\"]\n",
    "print(var)\n",
    "var[\"d\"] = var[\"A\"] - var[\"B\"]\n",
    "var[\"i\"] = var[\"A\"] * var[\"B\"]\n",
    "var[\"f\"] = var[\"A\"] / var[\"B\"]\n",
    "var[\"g\"] = var[\"A\"] % var[\"B\"]\n",
    "print(var)"
   ]
  },
  {
   "cell_type": "code",
   "execution_count": 14,
   "id": "8602874b-3a4a-4168-afc3-075e7a106580",
   "metadata": {},
   "outputs": [
    {
     "name": "stdout",
     "output_type": "stream",
     "text": [
      "    A   B\n",
      "0  10  15\n",
      "1  20  16\n",
      "2  30  17\n",
      "3  40  18\n",
      "\n",
      "    A   B      c      d\n",
      "0  10  15   True  False\n",
      "1  20  16   True  False\n",
      "2  30  17  False  False\n",
      "3  40  18  False   True\n"
     ]
    }
   ],
   "source": [
    "# to cheeck value greater or leass then in particular column\n",
    "\n",
    "import pandas as pd\n",
    "var1 = pd.DataFrame({ \"A\" : [10,20,30,40] , \"B\" : [15,16,17,18]})\n",
    "print(var1)\n",
    "print()\n",
    "var1[\"c\"] = var1[\"A\"] <= 20\n",
    "var1[\"d\"] = var1[\"B\"] >= 18\n",
    "print(var1)\n"
   ]
  },
  {
   "cell_type": "code",
   "execution_count": null,
   "id": "2edf52bf-a464-43d9-9b84-f90b5f2b2fcb",
   "metadata": {},
   "outputs": [],
   "source": []
  }
 ],
 "metadata": {
  "kernelspec": {
   "display_name": "Python 3 (ipykernel)",
   "language": "python",
   "name": "python3"
  },
  "language_info": {
   "codemirror_mode": {
    "name": "ipython",
    "version": 3
   },
   "file_extension": ".py",
   "mimetype": "text/x-python",
   "name": "python",
   "nbconvert_exporter": "python",
   "pygments_lexer": "ipython3",
   "version": "3.12.1"
  }
 },
 "nbformat": 4,
 "nbformat_minor": 5
}

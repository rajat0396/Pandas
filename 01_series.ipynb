{
 "cells": [
  {
   "cell_type": "markdown",
   "id": "103affaf-7f74-409a-9ddc-017414d65344",
   "metadata": {},
   "source": [
    "# series data structures of pandas \n"
   ]
  },
  {
   "cell_type": "code",
   "execution_count": 3,
   "id": "a2d9bdb6-a81f-4c9e-934d-106f2185ecf9",
   "metadata": {},
   "outputs": [],
   "source": [
    "import pandas as pd"
   ]
  },
  {
   "cell_type": "code",
   "execution_count": 2,
   "id": "da2f0203-61cc-471a-b800-19b8edba10cc",
   "metadata": {},
   "outputs": [],
   "source": [
    "# above coomand successfully runs means pandas is installed successfully\n"
   ]
  },
  {
   "cell_type": "code",
   "execution_count": 6,
   "id": "fb5afd27-076d-4886-9a58-7bced1b942ff",
   "metadata": {},
   "outputs": [
    {
     "name": "stdout",
     "output_type": "stream",
     "text": [
      "0    3\n",
      "1    4\n",
      "2    5\n",
      "3    6\n",
      "4    7\n",
      "5    8\n",
      "dtype: int64\n",
      "<class 'pandas.core.series.Series'>\n",
      "5\n"
     ]
    }
   ],
   "source": [
    "import pandas as pd\n",
    "x=[3,4,5,6,7,8]           # taking list as input \n",
    "var=pd.Series(x)\n",
    "print(var)\n",
    "print(type(var))          #   which type of series \n",
    "print(var[2])             # give the value at index 2"
   ]
  },
  {
   "cell_type": "code",
   "execution_count": 7,
   "id": "fbd0f25a-7566-4305-9e19-5b9d4fb51d08",
   "metadata": {},
   "outputs": [
    {
     "name": "stdout",
     "output_type": "stream",
     "text": [
      "a    1\n",
      "s    3\n",
      "d    4\n",
      "f    6\n",
      "dtype: int64\n"
     ]
    }
   ],
   "source": [
    "# giving index by our own and want to chnage it\n",
    "\n",
    "import pandas as pd\n",
    "x=[1,3,4,6]\n",
    "var=pd.Series(x,index=['a','s','d','f'])\n",
    "print(var)"
   ]
  },
  {
   "cell_type": "code",
   "execution_count": 8,
   "id": "b45a0d9f-61cd-4754-b8c3-3256fa7b4de9",
   "metadata": {},
   "outputs": [
    {
     "name": "stdout",
     "output_type": "stream",
     "text": [
      "a    1.0\n",
      "s    3.0\n",
      "d    4.0\n",
      "f    6.0\n",
      "dtype: float64\n"
     ]
    }
   ],
   "source": [
    "# we can chnge the dtype as well\n",
    "\n",
    "import pandas as pd\n",
    "x=[1,3,4,6]\n",
    "var=pd.Series(x,index=['a','s','d','f'],dtype=\"float\")\n",
    "print(var)"
   ]
  },
  {
   "cell_type": "code",
   "execution_count": 12,
   "id": "ee0e89cb-9974-42bd-9126-1b643ec0a0f4",
   "metadata": {},
   "outputs": [
    {
     "data": {
      "text/plain": [
       "a    1.0\n",
       "s    3.0\n",
       "d    4.0\n",
       "f    6.0\n",
       "Name: rajat, dtype: float64"
      ]
     },
     "execution_count": 12,
     "metadata": {},
     "output_type": "execute_result"
    }
   ],
   "source": [
    "# name paramter i.e we can give the name to a data also\n",
    "\n",
    "import pandas as pd\n",
    "x=[1,3,4,6]\n",
    "var=pd.Series(x,index=['a','s','d','f'],dtype=\"float\",name = \"rajat\")\n",
    "var"
   ]
  },
  {
   "cell_type": "markdown",
   "id": "17cd3950-7234-4e76-a78a-227fa67fc539",
   "metadata": {},
   "source": [
    "#  by dictionary"
   ]
  },
  {
   "cell_type": "code",
   "execution_count": 11,
   "id": "2d44b83b-8dc1-41ad-b350-4360321e9290",
   "metadata": {},
   "outputs": [
    {
     "name": "stdout",
     "output_type": "stream",
     "text": [
      "\n",
      "name    [rajat, sahil, aniket, prashant]\n",
      "por                     [11, 12, 13, 14]\n",
      "rank                        [1, 4, 3, 2]\n",
      "dtype: object\n"
     ]
    }
   ],
   "source": [
    "dic = { \"name\" : ['rajat','sahil','aniket','prashant'], \"por\" : [11,12,13,14] , \"rank\" : [1,4,3,2]}\n",
    "var1=pd.Series(dic)\n",
    "var1                       # we can give directly var1 or print(var1) works same "
   ]
  },
  {
   "cell_type": "code",
   "execution_count": 13,
   "id": "8427177c-6297-4cf0-bb2f-f67fe112ed6a",
   "metadata": {},
   "outputs": [
    {
     "name": "stdout",
     "output_type": "stream",
     "text": [
      "0    12\n",
      "dtype: int64\n"
     ]
    }
   ],
   "source": [
    "x=pd.Series(12)\n",
    "print(x)"
   ]
  },
  {
   "cell_type": "code",
   "execution_count": 14,
   "id": "0da848f8-93f5-4a1e-bc96-c9cfc4dd5cc4",
   "metadata": {},
   "outputs": [
    {
     "name": "stdout",
     "output_type": "stream",
     "text": [
      "1    12\n",
      "2    12\n",
      "3    12\n",
      "4    12\n",
      "5    12\n",
      "6    12\n",
      "7    12\n",
      "dtype: int64\n"
     ]
    }
   ],
   "source": [
    "x=pd.Series(12,index=[1,2,3,4,5,6,7])\n",
    "print(x)\n"
   ]
  },
  {
   "cell_type": "code",
   "execution_count": 15,
   "id": "f1ce4540-8c91-4f3f-ba5e-a7e5f2f5c5ef",
   "metadata": {},
   "outputs": [
    {
     "name": "stdout",
     "output_type": "stream",
     "text": [
      "1    24.0\n",
      "2    24.0\n",
      "3    24.0\n",
      "4    24.0\n",
      "5     NaN\n",
      "6     NaN\n",
      "7     NaN\n",
      "dtype: float64\n"
     ]
    }
   ],
   "source": [
    "x=pd.Series(12,index=[1,2,3,4,5,6,7])\n",
    "x1=pd.Series(12,index=[1,2,3,4])            \n",
    "print(x+x1)                     # it will add till 4th index because both variable has vale till 4th index and 5,6,7 index x1 does not have value so after adding the value will be none"
   ]
  },
  {
   "cell_type": "code",
   "execution_count": null,
   "id": "543517ad-f139-4787-80a0-542dc0f62878",
   "metadata": {},
   "outputs": [],
   "source": []
  }
 ],
 "metadata": {
  "kernelspec": {
   "display_name": "Python 3 (ipykernel)",
   "language": "python",
   "name": "python3"
  },
  "language_info": {
   "codemirror_mode": {
    "name": "ipython",
    "version": 3
   },
   "file_extension": ".py",
   "mimetype": "text/x-python",
   "name": "python",
   "nbconvert_exporter": "python",
   "pygments_lexer": "ipython3",
   "version": "3.12.1"
  }
 },
 "nbformat": 4,
 "nbformat_minor": 5
}
